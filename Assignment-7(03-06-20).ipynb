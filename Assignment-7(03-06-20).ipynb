{
 "cells": [
  {
   "cell_type": "markdown",
   "metadata": {},
   "source": [
    "# Assignment-7(03-06-20)\n",
    "## CSE - 221710309047 - P.Hima"
   ]
  },
  {
   "cell_type": "markdown",
   "metadata": {},
   "source": [
    "# Question 1:\n",
    "## [Reverse] Copy the contents of a text file into another, printing the reversed version of each input line\n"
   ]
  },
  {
   "cell_type": "code",
   "execution_count": 1,
   "metadata": {},
   "outputs": [
    {
     "name": "stdout",
     "output_type": "stream",
     "text": [
      "Data Science With Python,Advanced Programming,AI and ML,Full Stack Web Development\n"
     ]
    }
   ],
   "source": [
    "f = open(\"file1.txt\", \"w\")\n",
    "f.write(\"Data Science With Python,Advanced Programming,AI and ML,Full Stack Web Development\")\n",
    "f.close()\n",
    "\n",
    "f = open(\"file1.txt\",\"r\")\n",
    "data = f.read()\n",
    "print(data)\n",
    "f.close()\n",
    "\n",
    "f = open(\"file2.txt\",\"w\")\n",
    "f.write(data[::-1])\n",
    "f.close()"
   ]
  },
  {
   "cell_type": "markdown",
   "metadata": {},
   "source": [
    "# Question 2:\n",
    "## [Number Lines] Print the contents of a file line by line putting a line number for each line.\n"
   ]
  },
  {
   "cell_type": "code",
   "execution_count": 2,
   "metadata": {},
   "outputs": [
    {
     "name": "stdout",
     "output_type": "stream",
     "text": [
      "Contents of file in order:\n",
      "1. Data Science\n",
      "2. Advanced Programming\n",
      "3. AI and ML\n",
      "4. Full Stack Web Development\n",
      "5. Python Programming\n",
      "6. Summer Internship\n"
     ]
    }
   ],
   "source": [
    "L = [\"Data Science\\n\", \"Advanced Programming\\n\", \"AI and ML\\n\",\"Full Stack Web Development\\n\",\"Python Programming\\n\",\"Summer Internship\\n\"]\n",
    "\n",
    "f1 = open(\"myfile.txt\", \"w\") \n",
    "f1.writelines(L) \n",
    "f1.close()\n",
    "\n",
    "f1 = open(\"myfile.txt\", \"r\") \n",
    "count = 0\n",
    "\n",
    "print(\"Contents of file in order:\") \n",
    "for line in f1: \n",
    "    count += 1\n",
    "    print(\"{}. {}\".format(count, line.strip()))\n",
    "    \n",
    "f1.close()\n"
   ]
  },
  {
   "cell_type": "markdown",
   "metadata": {},
   "source": [
    "# Question 3:\n",
    "## [deDuplicate] Avoiding Duplicates\n",
    "In many situations, lists should not contain duplicate elements. \n",
    "\n",
    "For example, a pack of cards should not contain the same card twice. \n",
    "\n",
    "Define a function\n",
    "duplicates (list): bool\n",
    "\n",
    "which returns True if its argument contains duplicate elements.\n",
    "\n",
    "\t\tduplicates [1,2,3,4,5]\n",
    "\t\t\tFalse\n",
    "            \n",
    "\t\tduplicates [1,2,3,2]\n",
    "\t\t\tTrue\n",
    "            \n",
    "### Hint: \n",
    "\n",
    "the standard operation in, which tests whether an element occurs in a list, is helpful here.\n",
    "\n",
    "One way to ensure a list contains no duplicates is to start with a list that might contain duplicate elements, and remove them.\n",
    "\n",
    "\n",
    "Define a function\n",
    "    removeDuplicates (list): list\n",
    "    \n",
    "   \n",
    "which returns a list containing the same elements as its argument, but without duplicates.\n"
   ]
  },
  {
   "cell_type": "code",
   "execution_count": 3,
   "metadata": {},
   "outputs": [
    {
     "name": "stdout",
     "output_type": "stream",
     "text": [
      "True\n"
     ]
    }
   ],
   "source": [
    "def Duplicates(listOfElems):\n",
    "    if len(list1) == len(set(list1)):\n",
    "        return False\n",
    "    else:\n",
    "        return True\n",
    "list1=[1,2,3,4,2]    \n",
    "result=Duplicates(list1)\n",
    "print(result)"
   ]
  },
  {
   "cell_type": "markdown",
   "metadata": {},
   "source": [
    "# Question 4:\n",
    "## [fractions.py] \n",
    "Develop a package for fractions. Develop a module that performs operations on fractions. It should have methods to create fractions, perform operations on two fractions, simplify a fraction, and print a fraction. You should use that package and illustrate those operations.\n"
   ]
  },
  {
   "cell_type": "code",
   "execution_count": 5,
   "metadata": {},
   "outputs": [
    {
     "name": "stdout",
     "output_type": "stream",
     "text": [
      "Add: 3\n",
      "Subtract: 1/6\n",
      "Multiply: 3/7\n",
      "Divide: 9/5\n",
      "Power: 36/49\n"
     ]
    }
   ],
   "source": [
    "from fractions import Fraction as frac\n",
    "print('Add: ' + str(frac('9/4') + frac('6/8')))\n",
    "print('Subtract: ' + str(frac('10/15') - frac('4/8')))\n",
    "print('Multiply: ' + str(frac('2/6') * frac('9/7')))\n",
    "print('Divide: ' + str(frac('90/125') / frac('14/35')))\n",
    "print('Power: ' + str(frac('6/7') ** 2))"
   ]
  },
  {
   "cell_type": "markdown",
   "metadata": {},
   "source": [
    "# Question 5:\n",
    "## [Permutations] \n",
    "A permutation of a list is another list with the same elements, but in a possibly different order. For example, [1,2,1] is a permutation of [2,1,1], but not of [1,2,2]. Write a function\n",
    "    \t\tisPermutation (list1, list2): bool\n",
    "that returns True if its arguments are permutations of each other.\n"
   ]
  },
  {
   "cell_type": "code",
   "execution_count": 4,
   "metadata": {},
   "outputs": [
    {
     "name": "stdout",
     "output_type": "stream",
     "text": [
      "True\n"
     ]
    }
   ],
   "source": [
    "L1=[1,2,1]\n",
    "L2=[2,1,1]\n",
    "def Permutation(list1,list2):\n",
    "    if len(list1)!= len(list2):\n",
    "         return False;\n",
    "    for i in range(0, len(list1)):\n",
    "           if list1.count(list1[i]) != list2.count(list1[i]):\n",
    "                 return False\n",
    "\n",
    "def islist_permutation(list1,list2):\n",
    "      if (Permutation(list1,list2) == False):\n",
    "        return False \n",
    "      else:\n",
    "        return True\n",
    "\n",
    "print(islist_permutation(L1,L2))"
   ]
  }
 ],
 "metadata": {
  "kernelspec": {
   "display_name": "Python 3",
   "language": "python",
   "name": "python3"
  },
  "language_info": {
   "codemirror_mode": {
    "name": "ipython",
    "version": 3
   },
   "file_extension": ".py",
   "mimetype": "text/x-python",
   "name": "python",
   "nbconvert_exporter": "python",
   "pygments_lexer": "ipython3",
   "version": "3.7.4"
  }
 },
 "nbformat": 4,
 "nbformat_minor": 2
}
