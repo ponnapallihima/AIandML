{
 "cells": [
  {
   "cell_type": "markdown",
   "metadata": {},
   "source": [
    "# Assignment-6(02-06-20)\n",
    "## CSE - 221710309047 - P.Hima"
   ]
  },
  {
   "cell_type": "code",
   "execution_count": 1,
   "metadata": {},
   "outputs": [
    {
     "name": "stdout",
     "output_type": "stream",
     "text": [
      "Type either a letter or  word!\n",
      "\n",
      "['?', '?', '?', '?', '?']\n",
      "Lives left:  9\n",
      "Guess a letter or word\n",
      "pizza\n",
      "Incorrect, You lost a life\n",
      "['?', '?', '?', '?', '?']\n",
      "Lives left:  8\n",
      "Guess a letter or word\n",
      "pasta\n",
      "Incorrect, You lost a life\n",
      "['?', '?', '?', '?', '?']\n",
      "Lives left:  7\n",
      "Guess a letter or word\n",
      "maggi\n",
      "Incorrect, You lost a life\n",
      "['?', '?', '?', '?', '?']\n",
      "Lives left:  6\n",
      "Guess a letter or word\n",
      "bread\n",
      "You won! \n"
     ]
    }
   ],
   "source": [
    "import random\n",
    "\n",
    "response = True\n",
    "\n",
    "words = [\"pizza\", \"pasta\", \"maggi\",\"bread\",\"chips\"]\n",
    "\n",
    "correct_guess = False\n",
    "\n",
    "def update_clue(guessed_letter, secret_word, clue):\n",
    "    index = 0\n",
    "    while index < len(secret_word):\n",
    "        if guessed_letter == secret_word[index]:\n",
    "            clue[index] = guessed_letter\n",
    "        index+= 1\n",
    "\n",
    "while response == True:\n",
    "    lives = 9\n",
    "    secret_word = random.choice(words)\n",
    "    clue = list(\"?????\")\n",
    "    print(\"Type either a letter or  word!\\n\")\n",
    "\n",
    "    while lives > 0:\n",
    "        print(clue)\n",
    "        print(\"Lives left: \",lives)\n",
    "        guess = input(\"Guess a letter or word\\n\")\n",
    "\n",
    "        if guess == secret_word:\n",
    "            correct_guess = True\n",
    "            break\n",
    "\n",
    "        if guess in secret_word:\n",
    "            update_clue(guess, secret_word, clue)\n",
    "            print(\"Correct! Pick another letter...\\n\")\n",
    "\n",
    "        else:\n",
    "            print(\"Incorrect, You lost a life\")\n",
    "            lives-= 1\n",
    "            \n",
    "\n",
    "    if correct_guess:\n",
    "        print(\"You won! \")\n",
    "        break\n",
    "    else:\n",
    "            response = False"
   ]
  }
 ],
 "metadata": {
  "kernelspec": {
   "display_name": "Python 3",
   "language": "python",
   "name": "python3"
  },
  "language_info": {
   "codemirror_mode": {
    "name": "ipython",
    "version": 3
   },
   "file_extension": ".py",
   "mimetype": "text/x-python",
   "name": "python",
   "nbconvert_exporter": "python",
   "pygments_lexer": "ipython3",
   "version": "3.7.4"
  }
 },
 "nbformat": 4,
 "nbformat_minor": 2
}
