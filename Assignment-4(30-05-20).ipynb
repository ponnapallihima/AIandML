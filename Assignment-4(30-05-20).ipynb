{
 "cells": [
  {
   "cell_type": "markdown",
   "metadata": {},
   "source": [
    "# Assignment-4(30-05-20)\n",
    "\n",
    "## CSE - 221710309047 - P.Hima"
   ]
  },
  {
   "cell_type": "code",
   "execution_count": null,
   "metadata": {},
   "outputs": [],
   "source": [
    "f = open(\"test.txt\",\"w\")\n",
    "f.write('''Hello everyone this is for assignment purpose\n",
    "counting number of lines words letters''')\n",
    "f.close()"
   ]
  },
  {
   "cell_type": "code",
   "execution_count": null,
   "metadata": {},
   "outputs": [],
   "source": [
    "f=open(\"name.txt\",\"w\")\n",
    "f.write(\"this file is for using remove function\")\n",
    "f.close()"
   ]
  },
  {
   "cell_type": "markdown",
   "metadata": {},
   "source": [
    "# Question 1:\n",
    "## Count the no.of words,no.of letters,no.of lines available in your file"
   ]
  },
  {
   "cell_type": "code",
   "execution_count": 7,
   "metadata": {},
   "outputs": [
    {
     "name": "stdout",
     "output_type": "stream",
     "text": [
      "words: 13 \n",
      "Charecters: 84 \n",
      "Lines: 2\n"
     ]
    }
   ],
   "source": [
    "f=open(\"test.txt\",\"r\")\n",
    "data=f.read()\n",
    "words=data.split()\n",
    "l=data.split('\\n')\n",
    "print(\"words:\",len(words),\"\\nCharecters:\",len(data),\"\\nLines:\",len(l))"
   ]
  },
  {
   "cell_type": "markdown",
   "metadata": {},
   "source": [
    "# Question 2:\n",
    "## Copy the content of one file to another"
   ]
  },
  {
   "cell_type": "code",
   "execution_count": 8,
   "metadata": {},
   "outputs": [
    {
     "name": "stdout",
     "output_type": "stream",
     "text": [
      "Data Science With Python,Advanced Programming,AI and ML,Full Stack Web Development\n"
     ]
    }
   ],
   "source": [
    "f = open(\"sample.txt\",\"w\")\n",
    "f.write(\"Data Science With Python,Advanced Programming,AI and ML,Full Stack Web Development\")\n",
    "f.close()\n",
    "\n",
    "f = open(\"sample.txt\",\"r\")\n",
    "data = f.read()\n",
    "print(data)\n",
    "f.close()\n",
    "\n",
    "f = open(\"sample1.txt\",\"w\")\n",
    "f.write(\"\")\n",
    "f.close()\n",
    "\n",
    "with open(\"sample.txt\") as f:\n",
    "    with open(\"sample1.txt\", \"w\") as f1:\n",
    "        for line in f:\n",
    "            f1.write(line)\n"
   ]
  },
  {
   "cell_type": "markdown",
   "metadata": {},
   "source": [
    "# Question 3:\n",
    "## Display the words starting with letter 'p'"
   ]
  },
  {
   "cell_type": "code",
   "execution_count": 9,
   "metadata": {},
   "outputs": [
    {
     "name": "stdout",
     "output_type": "stream",
     "text": [
      "pencil\n",
      "paper\n",
      "pen\n"
     ]
    }
   ],
   "source": [
    "St = 'pencil mobile paper eraser pen book'\n",
    "\n",
    "List = St.split()\n",
    "\n",
    "for s in List:\n",
    "    if s.startswith('p'):\n",
    "        print(s)"
   ]
  },
  {
   "cell_type": "markdown",
   "metadata": {},
   "source": [
    "# Question 4:\n",
    "## Rename and remove files"
   ]
  },
  {
   "cell_type": "code",
   "execution_count": null,
   "metadata": {},
   "outputs": [],
   "source": [
    "import os\n",
    "# Rename a file from sample1.txt to CoursesOpted.txt\n",
    "os.rename( \"sample1.txt\", \"CoursesOpted.txt\" )"
   ]
  },
  {
   "cell_type": "code",
   "execution_count": null,
   "metadata": {},
   "outputs": [],
   "source": [
    "import os\n",
    "# Delete file CoursesOpted.txt\n",
    "os.remove(\"CoursesOpted.txt\")"
   ]
  }
 ],
 "metadata": {
  "kernelspec": {
   "display_name": "Python 3",
   "language": "python",
   "name": "python3"
  },
  "language_info": {
   "codemirror_mode": {
    "name": "ipython",
    "version": 3
   },
   "file_extension": ".py",
   "mimetype": "text/x-python",
   "name": "python",
   "nbconvert_exporter": "python",
   "pygments_lexer": "ipython3",
   "version": "3.7.4"
  }
 },
 "nbformat": 4,
 "nbformat_minor": 2
}
